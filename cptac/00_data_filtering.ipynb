{
 "cells": [
  {
   "cell_type": "code",
   "execution_count": 15,
   "id": "8019568e",
   "metadata": {},
   "outputs": [],
   "source": [
    "import cptac\n",
    "import pandas as pd\n",
    "import json\n",
    "import numpy as np\n",
    "from scipy.stats import zscore"
   ]
  },
  {
   "cell_type": "markdown",
   "id": "ff3c225a",
   "metadata": {},
   "source": [
    "#### Metadata"
   ]
  },
  {
   "cell_type": "code",
   "execution_count": 16,
   "id": "98a37200",
   "metadata": {},
   "outputs": [
    {
     "data": {
      "text/plain": [
       "{'brca': 'Breast invasive carcinoma',\n",
       " 'ccrcc': 'Clear cell renal cell carcinoma',\n",
       " 'coad': 'Colon adenocarcinoma',\n",
       " 'gbm': 'Glioblastoma multiforme',\n",
       " 'hnscc': 'Head and Neck squamous cell carcinoma',\n",
       " 'lscc': 'Lung squamous cell carcinoma',\n",
       " 'luad': 'Lung adenocarcinoma',\n",
       " 'ov': 'Ovarian serous cystadenocarcinoma',\n",
       " 'pda': 'Pancreatic ductal adenocarcinoma',\n",
       " 'pdac': 'Pancreatic ductal adenocarcinoma',\n",
       " 'ucec': 'Uterine Corpus Endometrial Carcinoma'}"
      ]
     },
     "execution_count": 16,
     "metadata": {},
     "output_type": "execute_result"
    }
   ],
   "source": [
    "## display cancer info\n",
    "cptac.get_cancer_info()"
   ]
  },
  {
   "cell_type": "code",
   "execution_count": 17,
   "id": "a1dc8cb1",
   "metadata": {},
   "outputs": [],
   "source": [
    "## load cptac by cancer type\n",
    "brca_data = cptac.Brca()\n",
    "ccrcc_data = cptac.Ccrcc()\n",
    "coad_data = cptac.Coad()\n",
    "gbm_data = cptac.Gbm()\n",
    "hnscc_data = cptac.Hnscc()\n",
    "lscc_data = cptac.Lscc()\n",
    "luad_data = cptac.Luad()\n",
    "ov_data = cptac.Ov()\n",
    "pdac_data = cptac.Pdac()\n",
    "ucec_data = cptac.Ucec()"
   ]
  },
  {
   "cell_type": "markdown",
   "id": "4e6cff1f",
   "metadata": {},
   "source": [
    "#### Clinical"
   ]
  },
  {
   "cell_type": "code",
   "execution_count": 18,
   "id": "866405a7",
   "metadata": {},
   "outputs": [],
   "source": [
    "## pull clinical data by cancer type\n",
    "brca_clinical_data = brca_data.get_clinical('mssm')\n",
    "ccrcc_clinical_data = ccrcc_data.get_clinical('mssm')\n",
    "coad_clinical_data = coad_data.get_clinical('mssm')\n",
    "gbm_clinical_data = gbm_data.get_clinical('mssm')\n",
    "hnscc_clinical_data = hnscc_data.get_clinical('mssm')\n",
    "lscc_clinical_data = lscc_data.get_clinical('mssm')\n",
    "luad_clinical_data = luad_data.get_clinical('mssm')\n",
    "ov_clinical_data = ov_data.get_clinical('mssm')\n",
    "pdac_clinical_data = pdac_data.get_clinical('mssm')\n",
    "ucec_clinical_data = ucec_data.get_clinical('mssm')"
   ]
  },
  {
   "cell_type": "code",
   "execution_count": 19,
   "id": "94e945c1",
   "metadata": {},
   "outputs": [],
   "source": [
    "## combine clinical data\n",
    "clinical_data_list = [brca_clinical_data, ccrcc_clinical_data, coad_clinical_data,\n",
    "                      gbm_clinical_data, hnscc_clinical_data, lscc_clinical_data,\n",
    "                      luad_clinical_data, ov_clinical_data, pdac_clinical_data, ucec_clinical_data]\n",
    "\n",
    "combined_clinical_data = pd.concat(clinical_data_list)"
   ]
  },
  {
   "cell_type": "markdown",
   "id": "7ad1f221",
   "metadata": {},
   "source": [
    "#### Proteomics"
   ]
  },
  {
   "cell_type": "code",
   "execution_count": 20,
   "id": "9b83cdec",
   "metadata": {},
   "outputs": [],
   "source": [
    "## pull proteomics data by cancer type\n",
    "brca_proteomics_data = brca_data.get_proteomics('bcm')\n",
    "ccrcc_proteomics_data = ccrcc_data.get_proteomics('bcm')\n",
    "coad_proteomics_data = coad_data.get_proteomics('bcm')\n",
    "gbm_proteomics_data = gbm_data.get_proteomics('bcm')\n",
    "hnscc_proteomics_data = hnscc_data.get_proteomics('bcm')\n",
    "lscc_proteomics_data = lscc_data.get_proteomics('bcm')\n",
    "luad_proteomics_data = luad_data.get_proteomics('bcm')\n",
    "ov_proteomics_data = ov_data.get_proteomics('bcm')\n",
    "pdac_proteomics_data = pdac_data.get_proteomics('bcm')\n",
    "ucec_proteomics_data = ucec_data.get_proteomics('bcm')"
   ]
  },
  {
   "cell_type": "code",
   "execution_count": 21,
   "id": "78c3d3fc",
   "metadata": {},
   "outputs": [],
   "source": [
    "## combine proteomics data\n",
    "proteomics_data_list = [brca_proteomics_data, ccrcc_proteomics_data, coad_proteomics_data,\n",
    "                        gbm_proteomics_data, hnscc_proteomics_data, lscc_proteomics_data,\n",
    "                        luad_proteomics_data, ov_proteomics_data, pdac_proteomics_data, ucec_proteomics_data]\n",
    "\n",
    "combined_proteomics_data = pd.concat(proteomics_data_list)\n",
    "\n",
    "\n",
    "## drop ens level\n",
    "combined_proteomics_data.columns = combined_proteomics_data.columns.droplevel('Database_ID')"
   ]
  },
  {
   "cell_type": "markdown",
   "id": "05fa4e9a",
   "metadata": {},
   "source": [
    "#### Transcriptomics"
   ]
  },
  {
   "cell_type": "code",
   "execution_count": 22,
   "id": "86382bb2",
   "metadata": {},
   "outputs": [],
   "source": [
    "## pull transcriptomics data by cancer type\n",
    "brca_transcriptomics_data = brca_data.get_transcriptomics('bcm')\n",
    "ccrcc_transcriptomics_data = ccrcc_data.get_transcriptomics('bcm')\n",
    "coad_transcriptomics_data = coad_data.get_transcriptomics('bcm')\n",
    "gbm_transcriptomics_data = gbm_data.get_transcriptomics('bcm')\n",
    "hnscc_transcriptomics_data = hnscc_data.get_transcriptomics('bcm')\n",
    "lscc_transcriptomics_data = lscc_data.get_transcriptomics('bcm')\n",
    "luad_transcriptomics_data = luad_data.get_transcriptomics('bcm')\n",
    "ov_transcriptomics_data = ov_data.get_transcriptomics('bcm')\n",
    "pdac_transcriptomics_data = pdac_data.get_transcriptomics('bcm')\n",
    "ucec_transcriptomics_data = ucec_data.get_transcriptomics('bcm')"
   ]
  },
  {
   "cell_type": "code",
   "execution_count": 23,
   "id": "cdf24c97",
   "metadata": {},
   "outputs": [],
   "source": [
    "## combine transcriptomics data\n",
    "transcriptomics_data_list = [brca_transcriptomics_data, ccrcc_transcriptomics_data, coad_transcriptomics_data,\n",
    "                            gbm_transcriptomics_data, hnscc_transcriptomics_data, lscc_transcriptomics_data,\n",
    "                            luad_transcriptomics_data, ov_transcriptomics_data, pdac_transcriptomics_data, ucec_transcriptomics_data]\n",
    "\n",
    "combined_transcriptomics_data = pd.concat(transcriptomics_data_list)\n",
    "\n",
    "## drop ens level\n",
    "combined_transcriptomics_data.columns = combined_transcriptomics_data.columns.droplevel('Database_ID')"
   ]
  },
  {
   "cell_type": "markdown",
   "id": "1ba90129",
   "metadata": {},
   "source": [
    "#### Process"
   ]
  },
  {
   "cell_type": "code",
   "execution_count": 24,
   "id": "6e4190e3",
   "metadata": {},
   "outputs": [],
   "source": [
    "## load gene lists\n",
    "with open('../genes.json', 'r') as file:\n",
    "    marker_genes = json.load(file)"
   ]
  },
  {
   "cell_type": "code",
   "execution_count": 25,
   "id": "03631a39",
   "metadata": {},
   "outputs": [],
   "source": [
    "## select relevant clinical columns\n",
    "select_clinical_data = combined_clinical_data['tumor_code']"
   ]
  },
  {
   "cell_type": "code",
   "execution_count": 26,
   "id": "c57ef32d",
   "metadata": {},
   "outputs": [],
   "source": [
    "## select relevant proteomics columns\n",
    "select_gene_columns = [gene for genes in marker_genes.values() for gene in genes]\n",
    "select_proteomics_data = combined_proteomics_data[select_gene_columns].copy()\n",
    "\n",
    "## z-score normalize, ignoring nan values\n",
    "def zscore_with_nan_handling(series):\n",
    "    non_nan_values = series.dropna()\n",
    "    z_scores = zscore(non_nan_values)\n",
    "    result = series.copy()\n",
    "    result[non_nan_values.index] = z_scores\n",
    "    return result\n",
    "select_proteomics_data[select_gene_columns] = select_proteomics_data[select_gene_columns].apply(zscore_with_nan_handling, axis=0)\n",
    "\n",
    "## average expression by gene list\n",
    "for marker, genes in marker_genes.items():\n",
    "    genes_present = [g for g in genes if g in select_proteomics_data.columns]\n",
    "    select_proteomics_data[marker] = select_proteomics_data[genes_present].mean(axis=1)\n",
    "\n",
    "## calculate overall score\n",
    "select_proteomics_data['overall_score'] = select_proteomics_data[list(marker_genes.keys())].mean(axis=1)\n",
    "\n",
    "## merge proteomics and clinical data on patient_id, \n",
    "merged_proteomics_data = pd.merge(select_proteomics_data, select_clinical_data, on='Patient_ID', how='inner')\n",
    "\n",
    "## save proteomics data\n",
    "merged_proteomics_data.to_csv('./data/proteomics_data.tsv', sep='\\t', index=False)"
   ]
  },
  {
   "cell_type": "code",
   "execution_count": 27,
   "id": "130cab5e",
   "metadata": {},
   "outputs": [],
   "source": [
    "## select relevant transcriptomics columns\n",
    "select_gene_columns = [gene for genes in marker_genes.values() for gene in genes]\n",
    "select_transcriptomics_data = combined_transcriptomics_data[select_gene_columns].copy()\n",
    "\n",
    "## z-score normalize, ignoring nan values\n",
    "def zscore_with_nan_handling(series):\n",
    "    non_nan_values = series.dropna()\n",
    "    z_scores = zscore(non_nan_values)\n",
    "    result = series.copy()\n",
    "    result[non_nan_values.index] = z_scores\n",
    "    return result\n",
    "select_transcriptomics_data[select_gene_columns] = select_transcriptomics_data[select_gene_columns].apply(zscore_with_nan_handling, axis=0)\n",
    "\n",
    "## average expression by gene list\n",
    "for marker, genes in marker_genes.items():\n",
    "    genes_present = [g for g in genes if g in select_transcriptomics_data.columns]\n",
    "    select_transcriptomics_data[marker] = select_transcriptomics_data[genes_present].mean(axis=1)\n",
    "\n",
    "## calculate overall score\n",
    "select_transcriptomics_data['overall_score'] = select_transcriptomics_data[list(marker_genes.keys())].mean(axis=1)\n",
    "\n",
    "## merge transcriptomics and clinical data on patient_id, \n",
    "merged_transcriptomics_data = pd.merge(select_transcriptomics_data, select_clinical_data, on='Patient_ID', how='inner')\n",
    "\n",
    "## save transcriptomics data\n",
    "merged_transcriptomics_data.to_csv('./data/transcriptomics_data.tsv', sep='\\t', index=False)"
   ]
  }
 ],
 "metadata": {
  "kernelspec": {
   "display_name": "Python 3",
   "language": "python",
   "name": "python3"
  },
  "language_info": {
   "codemirror_mode": {
    "name": "ipython",
    "version": 3
   },
   "file_extension": ".py",
   "mimetype": "text/x-python",
   "name": "python",
   "nbconvert_exporter": "python",
   "pygments_lexer": "ipython3",
   "version": "3.12.9"
  }
 },
 "nbformat": 4,
 "nbformat_minor": 5
}
