{
 "cells": [
  {
   "cell_type": "markdown",
   "metadata": {},
   "source": [
    "### Imports"
   ]
  },
  {
   "cell_type": "code",
   "execution_count": 1,
   "metadata": {},
   "outputs": [],
   "source": [
    "import pandas as pd\n",
    "import numpy as np\n",
    "import zipfile\n",
    "import pandas as pd\n",
    "import json\n",
    "from sklearn.preprocessing import StandardScaler"
   ]
  },
  {
   "cell_type": "markdown",
   "metadata": {},
   "source": [
    "### Unzip and read in data"
   ]
  },
  {
   "cell_type": "code",
   "execution_count": null,
   "metadata": {},
   "outputs": [],
   "source": [
    "# Specify path to zipped data\n",
    "zip_path = \"data/expression_data.zip\"\n",
    "tsv_filename = \"master_expression_data.tsv\"\n",
    "\n",
    "# Open the zip file, extract the tsv, and read into dataframe\n",
    "# Should take ~4 mins\n",
    "with zipfile.ZipFile(zip_path, 'r') as z:\n",
    "    with z.open(tsv_filename) as f:\n",
    "        df = pd.read_csv(f, sep=\"\\t\")"
   ]
  },
  {
   "cell_type": "markdown",
   "metadata": {},
   "source": [
    "### Filter and process data based on genes.json"
   ]
  },
  {
   "cell_type": "code",
   "execution_count": null,
   "metadata": {},
   "outputs": [],
   "source": [
    "# Open the gene markers list and read it in\n",
    "with open(\"../genes.json\", \"r\") as f:\n",
    "    marker_genes = json.load(f)\n",
    "\n",
    "# we don't need everything - just the genes of interest and ids\n",
    "keep = [\"id\", \"project_id\"]\n",
    "data = df[keep + list(set([gene for genes in marker_genes.values() for gene in genes]))]\n",
    "data = data.copy()\n",
    "data[\"project_id\"] = data[\"project_id\"].str[5:]\n",
    "\n",
    "# Log transform the data and zscore it\n",
    "data[list(data.columns)[2:]] = np.log1p(data[list(data.columns[2:])])\n",
    "scaler = StandardScaler()\n",
    "data[list(data.columns)[2:]] = scaler.fit_transform(data[list(data.columns)[2:]])\n",
    "\n",
    "# Get intermediate scores for each marker\n",
    "for marker in marker_genes:\n",
    "    data[marker] = data[marker_genes[marker]].mean(axis=1)\n",
    "\n",
    "# Get the overall score\n",
    "data[\"overall_score\"] = data[list(marker_genes.keys())].mean(axis=1)"
   ]
  },
  {
   "cell_type": "markdown",
   "metadata": {},
   "source": [
    "### Save data as processed_data.tsv"
   ]
  },
  {
   "cell_type": "code",
   "execution_count": 4,
   "metadata": {},
   "outputs": [],
   "source": [
    "# Save the dataframe as processed_data.tsv\n",
    "data.to_csv(\"data/processed_data.tsv\", sep=\"\\t\", index=False)"
   ]
  }
 ],
 "metadata": {
  "kernelspec": {
   "display_name": "eris",
   "language": "python",
   "name": "python3"
  },
  "language_info": {
   "codemirror_mode": {
    "name": "ipython",
    "version": 3
   },
   "file_extension": ".py",
   "mimetype": "text/x-python",
   "name": "python",
   "nbconvert_exporter": "python",
   "pygments_lexer": "ipython3",
   "version": "3.13.2"
  }
 },
 "nbformat": 4,
 "nbformat_minor": 2
}
